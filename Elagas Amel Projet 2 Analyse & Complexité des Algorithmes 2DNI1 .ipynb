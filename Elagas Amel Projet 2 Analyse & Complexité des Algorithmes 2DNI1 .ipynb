{
 "cells": [
  {
   "cell_type": "markdown",
   "metadata": {},
   "source": [
    " #### <a style =\"color:#cd8235\" > Elagas Amel    2Dni Groupe 1  $$2020-2021$$ </a>"
   ]
  },
  {
   "cell_type": "markdown",
   "metadata": {},
   "source": [
    "#### <center style=\"color:#cd3635\"> Projet - Algorithmique avancée Thème : Analyse & Complexité des Algorithmes </center>"
   ]
  },
  {
   "cell_type": "markdown",
   "metadata": {},
   "source": [
    " \n",
    " #### <p>Objectif : analyser expérimentalement les performances des algorithmes de Tri </p>\n",
    " \n",
    " \n",
    " # <center style=\"color:#35cd36\"> Partie 1: Implémentation </center>\n",
    "\n",
    "\n",
    "\n",
    "   ### Algorithmes de tri\n",
    "   \n",
    "  ####  1. Tri à bulle\n",
    "  \n",
    "  ####  2. Tri par fusion\n",
    "  \n",
    "  ####  3. Tri par rapide\n",
    "  \n",
    "  ####  4. Tri par insertion \n",
    "  \n",
    "  ####  5. Tri par sélection"
   ]
  },
  {
   "cell_type": "markdown",
   "metadata": {},
   "source": [
    "### <span style='color:blue '> Tri à bulle </span>  :\n",
    "\n",
    "L’algorithme de tri à bulles est connu comme l’algorithme de tri le plus simple. Dans l’algorithme de tri à bulle, le tableau est parcouru du premier au dernier élément. Ici, l’élément courant est comparé à l’élément suivant. Si l’élément en cours est supérieur à l’élément suivant, il est échangé. Voici l'algorithme en python:"
   ]
  },
  {
   "cell_type": "code",
   "execution_count": 1,
   "metadata": {},
   "outputs": [
    {
     "name": "stdout",
     "output_type": "stream",
     "text": [
      "Le tableau trié est:\n",
      "2\n",
      "15\n",
      "22\n",
      "32\n",
      "63\n",
      "70\n",
      "74\n",
      "98\n"
     ]
    }
   ],
   "source": [
    " def tri_bulle(t):\n",
    "    n = len(t)\n",
    "    for i in range(n):\n",
    "        for j in range(0, n-i-1):\n",
    "            if t[j] > t[j+1] :\n",
    "                t[j], t[j+1] = t[j+1], t[j]\n",
    "                \n",
    "t= [98, 22, 15, 32, 2, 74, 63, 70]\n",
    " \n",
    "tri_bulle(t)\n",
    " \n",
    "print (\"Le tableau trié est:\")\n",
    "for i in range(len(t)):\n",
    "    print (\"%d\" %t[i])"
   ]
  },
  {
   "cell_type": "markdown",
   "metadata": {},
   "source": [
    "###   <span style='color:blue '> Tri par fusion </span> :\n",
    "Le tri fusion se base sur le principe diviser pour régner.\n",
    "\n",
    "Si le tableau a une seule case, alors il est considéré comme trié.\n",
    "Sinon, on découpe le tableau en deux parties de même taille (à une case près, si le nombre d’éléments du tableau est impair) et on trie chacune des deux parties.\n",
    "On fusionne les deux parties triées."
   ]
  },
  {
   "cell_type": "code",
   "execution_count": 2,
   "metadata": {},
   "outputs": [
    {
     "name": "stdout",
     "output_type": "stream",
     "text": [
      "diviser  [98, 22, 15, 32, 2, 74, 63, 70]\n",
      "diviser  [98, 22, 15, 32]\n",
      "diviser  [98, 22]\n",
      "diviser  [98]\n",
      "diviser  [22]\n",
      "régner  [22]\n",
      "régner  [22, 98]\n",
      "diviser  [15, 32]\n",
      "diviser  [15]\n",
      "diviser  [32]\n",
      "régner  [15]\n",
      "régner  [15, 32]\n",
      "régner  [15]\n",
      "régner  [15, 22]\n",
      "régner  [15, 22, 32]\n",
      "régner  [15, 22, 32, 98]\n",
      "diviser  [2, 74, 63, 70]\n",
      "diviser  [2, 74]\n",
      "diviser  [2]\n",
      "diviser  [74]\n",
      "régner  [2]\n",
      "régner  [2, 74]\n",
      "diviser  [63, 70]\n",
      "diviser  [63]\n",
      "diviser  [70]\n",
      "régner  [63]\n",
      "régner  [63, 70]\n",
      "régner  [2]\n",
      "régner  [2, 63]\n",
      "régner  [2, 63, 70]\n",
      "régner  [2, 63, 70, 74]\n",
      "régner  [2]\n",
      "régner  [2, 15]\n",
      "régner  [2, 15, 22]\n",
      "régner  [2, 15, 22, 32]\n",
      "régner  [2, 15, 22, 32, 63]\n",
      "régner  [2, 15, 22, 32, 63, 70]\n",
      "régner  [2, 15, 22, 32, 63, 70, 74]\n",
      "régner  [2, 15, 22, 32, 63, 70, 74, 98]\n",
      "[2, 15, 22, 32, 63, 70, 74, 98]\n"
     ]
    }
   ],
   "source": [
    "def merge_sort(array):\n",
    "  \n",
    "    print(\"diviser \",array)\n",
    "    if len(array) < 2:\n",
    "        return array\n",
    "\n",
    "    midpoint = len(array) // 2\n",
    "    \n",
    "    return merge(\n",
    "        left=merge_sort(array[:midpoint]),\n",
    "        right=merge_sort(array[midpoint:]))\n",
    "\n",
    "def merge(left, right):\n",
    "    \n",
    "    if len(left) == 0:\n",
    "        return right\n",
    "\n",
    "    if len(right) == 0:\n",
    "        return left\n",
    "\n",
    "    result = []\n",
    "    index_left = index_right = 0\n",
    "\n",
    "\n",
    "    while len(result) < len(left) + len(right):\n",
    "        \n",
    "        if left[index_left] <= right[index_right]:\n",
    "            result.append(left[index_left])\n",
    "            index_left += 1\n",
    "            print(\"régner \",result)\n",
    "        else:\n",
    "            result.append(right[index_right])\n",
    "            index_right += 1\n",
    "            print(\"régner \",result)\n",
    "\n",
    "        if index_right == len(right):\n",
    "            result += left[index_left:]\n",
    "            print(\"régner \",result)\n",
    "            break\n",
    "\n",
    "        if index_left == len(left):\n",
    "            result += right[index_right:]\n",
    "            print(\"régner \",result)\n",
    "            break\n",
    "        \n",
    "    return result\n",
    "list =[98, 22, 15, 32, 2, 74, 63, 70]\n",
    "\n",
    "fin=merge_sort(list)\n",
    "print(fin)"
   ]
  },
  {
   "cell_type": "markdown",
   "metadata": {},
   "source": [
    "###  <span style='color:blue '> Tri rapide  </span>  :\n",
    "Le principe de ce tri est d’ordonner le vecteur v[0..n] en cherchant dans celui-ci une clé pivot autour de laquelle réorganiser ses éléments. Il est souhaitable que le pivot soit aussi proche que possible de la clé relative à l’enregistrement central du vecteur, afin qu’il y ait à peu près autant d’éléments le précédant que le suivant, soit environ la moitié des éléments du tableau.\n",
    "\n",
    "Le choix du pivot est déterminant pour l'efficacité de ce tri. Plusieurs options sont possibles :\n",
    "\n",
    "\n",
    "\n",
    "\n",
    "Choisir le premier élément du tableau\n",
    "\n",
    "Choisir le dernier élément du tableau\n",
    "\n",
    "Choisir un élément au hasard\n",
    "\n",
    "Choisir l'élément au milieu du tableau\n",
    "\n",
    "Trouver le pivot optimal en recherchant la médiane\n",
    " \n",
    "\n",
    "\n",
    "\n"
   ]
  },
  {
   "cell_type": "code",
   "execution_count": 3,
   "metadata": {},
   "outputs": [
    {
     "name": "stdout",
     "output_type": "stream",
     "text": [
      "Le tableau trié est:\n",
      "2\n",
      "15\n",
      "22\n",
      "32\n",
      "63\n",
      "70\n",
      "74\n",
      "98\n"
     ]
    }
   ],
   "source": [
    "def partition(arr, low, high):\n",
    "    i = (low-1)        \n",
    "    pivot = arr[high]     \n",
    " \n",
    "    for j in range(low, high):\n",
    "        if arr[j] <= pivot:\n",
    "            i = i+1\n",
    "            arr[i], arr[j] = arr[j], arr[i]\n",
    " \n",
    "    arr[i+1], arr[high] = arr[high], arr[i+1]\n",
    "    return (i+1)\n",
    "\n",
    "def quickSort(arr, low, high):\n",
    "    if len(arr) == 1:\n",
    "        return arr\n",
    "    if low < high:\n",
    " \n",
    "        pi = partition(arr, low, high)\n",
    "\n",
    "        quickSort(arr, low, pi-1)\n",
    "        quickSort(arr, pi+1, high)\n",
    " \n",
    " \n",
    "#########PP##########\n",
    "list =[98, 22, 15, 32, 2, 74, 63, 70]\n",
    "n = len(list) \n",
    "quickSort(list, 0, n-1)\n",
    "print (\"Le tableau trié est:\")\n",
    "for i in range(n):\n",
    "    print(\"%d\" % list[i]),"
   ]
  },
  {
   "cell_type": "markdown",
   "metadata": {},
   "source": [
    " ###   <span style='color:blue '> Tri par insertion   </span>  : "
   ]
  },
  {
   "cell_type": "markdown",
   "metadata": {},
   "source": [
    "L’algorithme du tri par insertion n’est utile que pour les petits éléments, car elle nécessite plus de temps pour trier un grand nombre d’éléments. Voici l'algorithme :"
   ]
  },
  {
   "cell_type": "code",
   "execution_count": 4,
   "metadata": {},
   "outputs": [
    {
     "name": "stdout",
     "output_type": "stream",
     "text": [
      "Le tableau trié est:\n",
      " 2\n",
      " 15\n",
      " 22\n",
      " 32\n",
      " 63\n",
      " 70\n",
      " 74\n",
      " 98\n"
     ]
    }
   ],
   "source": [
    "def tri_insertion(tab): \n",
    "    # Parcour de 1 à la taille du tab\n",
    "    for i in range(1, len(tab)): \n",
    "        k = tab[i] \n",
    "        j = i-1\n",
    "        while j >= 0 and k < tab[j] : \n",
    "                tab[j + 1] = tab[j] \n",
    "                j -= 1\n",
    "        tab[j + 1] = k\n",
    "# Programme principale pour tester le code ci-dessus\n",
    "tab = [98, 22, 15, 32, 2, 74, 63, 70]\n",
    "tri_insertion(tab) \n",
    "print (\"Le tableau trié est:\")\n",
    "for i in range(len(tab)): \n",
    "    print (\"% d\" % tab[i])"
   ]
  },
  {
   "cell_type": "markdown",
   "metadata": {},
   "source": [
    "####   <span style='color:red '> Remarque :  </span> \n",
    "L’algorithme du tri par insertion n’est utile que pour les petits éléments, car elle nécessite plus de temps pour trier un grand nombre d’éléments."
   ]
  },
  {
   "cell_type": "markdown",
   "metadata": {},
   "source": [
    " ###  <span style='color:blue '> Tri par sélection :  </span>  "
   ]
  },
  {
   "cell_type": "markdown",
   "metadata": {},
   "source": [
    "Dans l’algorithme de tri par sélection, nous cherchons l’élément le plus petit et on le met au bon endroit. Nous échangeons l’élément en cours avec le prochain élément le plus petit"
   ]
  },
  {
   "cell_type": "code",
   "execution_count": 5,
   "metadata": {},
   "outputs": [
    {
     "name": "stdout",
     "output_type": "stream",
     "text": [
      "Le tableau trié est:\n",
      "1\n",
      "1\n",
      "1\n",
      "1\n",
      "2\n",
      "5\n",
      "5\n",
      "80\n"
     ]
    }
   ],
   "source": [
    "def tri_selection(t):\n",
    "   for i in range(len(t)):# len(t) fois de une affectation et un boucle fe \n",
    "       min = i #1 aff n fois\n",
    "       for j in range(i+1, len(t)):#le nombre de fois d'excution de ces deux \n",
    "                                     #opération est len(t)-1 \n",
    "           if t[min] > t[j]: #une opération \n",
    "               min = j # une affectation \n",
    "                \n",
    "       aux = t[i]# 1 aff\n",
    "       t[i] = t[min]#1 aff\n",
    "       tab[min] = aux#1 aff\n",
    "   return t\n",
    "###############\n",
    "\n",
    "t= [10, 200, 15, 1, 2, 9, 5, 80]\n",
    " \n",
    "tri_selection(t)\n",
    " \n",
    "print (\"Le tableau trié est:\")\n",
    "for i in range(len(t)):\n",
    "    print (\"%d\" %t[i])"
   ]
  },
  {
   "cell_type": "markdown",
   "metadata": {},
   "source": [
    " # <center style=\"color:#35cd36\"> Partie 2:  Etude des performances</center>"
   ]
  },
  {
   "cell_type": "markdown",
   "metadata": {},
   "source": [
    "#### On va étudier les performances de chacun de ses algorithmes sur des tableaux d’entiers générés aléatoirement."
   ]
  },
  {
   "cell_type": "markdown",
   "metadata": {},
   "source": [
    "### Tri par  selection"
   ]
  },
  {
   "cell_type": "code",
   "execution_count": 6,
   "metadata": {},
   "outputs": [],
   "source": [
    "def triSelection(v):\n",
    "\tfor i in range(len(v)):\n",
    "\t\tind_min = i\n",
    "\t\tfor k in range(i+1,len(v)):\n",
    "\t\t\tif (v[k] < v[ind_min]):\n",
    "\t\t\t\tind_min = k\n",
    "\t\taux = v[i]\n",
    "\t\tv[i]= v[ind_min]\n",
    "\t\tv[ind_min]=aux\n",
    "\t#print(\"+After Selection\",v)\n",
    "\te = datetime.now() # prendre le temps apres execution de l'algo\n",
    "\tdiff = e-s # difference entre temp de début et temp de fin\n",
    "\tsec = diff.total_seconds() # conversion du temp de difference en seconde\n",
    "\ttmp_s.append(sec) # ajouter le temps en s au tableau approprié"
   ]
  },
  {
   "cell_type": "markdown",
   "metadata": {},
   "source": [
    "### Tri par bulle"
   ]
  },
  {
   "cell_type": "code",
   "execution_count": 7,
   "metadata": {},
   "outputs": [],
   "source": [
    "def triBulle (v):\n",
    "\tpermut = True\n",
    "\tp = len(Tab)-1\n",
    "\twhile (permut):\n",
    "\t\tpermut = False\n",
    "\t\tfor i in range(0,p):\n",
    "\t\t\tif (Tab[i] >Tab[i+1]):\n",
    "\t\t\t\taux=Tab[i]\n",
    "\t\t\t\tTab[i]=Tab[i+1]\n",
    "\t\t\t\tTab[i+1]=aux\n",
    "\t\t\t\tpermut=True\n",
    "\t\tp-=1\n",
    "\t#print(\"+After Bulle\",Tab)\n",
    "\te = datetime.now()\n",
    "\tdiff = e-s\n",
    "\tsec = diff.total_seconds()\n",
    "\ttmp_b.append(sec)"
   ]
  },
  {
   "cell_type": "markdown",
   "metadata": {},
   "source": [
    "### Tri par  insertion"
   ]
  },
  {
   "cell_type": "code",
   "execution_count": 8,
   "metadata": {},
   "outputs": [],
   "source": [
    "def triInsertion (v):\n",
    "\tp=len(v)-1\n",
    "\tfor i in range(0,p) :\n",
    "\t\tx = v[i+1]\n",
    "\t\tj=i\n",
    "\t\twhile((v[j] > x ) and (j>=0) ) :\n",
    "\t\t\tv[j+1] = v[j]\n",
    "\t\t\tj-= 1\n",
    "\t\tv[j+1] = x\n",
    "\t#print(\"+After Insertion\",v)\n",
    "\te = datetime.now() # prendre le temps apres execution de l'algo\n",
    "\tdiff = e-s # difference entre temp de début et temp de fin\n",
    "\tsec = diff.total_seconds() # conversion du temp de difference en seconde\n",
    "\ttmp_i.append(sec)"
   ]
  },
  {
   "cell_type": "markdown",
   "metadata": {},
   "source": [
    "### Tri par  fusion"
   ]
  },
  {
   "cell_type": "code",
   "execution_count": 9,
   "metadata": {},
   "outputs": [],
   "source": [
    "def TriFusion(w):\n",
    "\tdef triFusion(v):\n",
    "\t\t\n",
    "\t\tif len(v)>1:\n",
    "\t\t\tmid = len(v)//2\n",
    "\t\t\tleft = v[:mid]\n",
    "\t\t\tright = v[mid:]\n",
    "\n",
    "\t\t\ttriFusion(left)\n",
    "\t\t\ttriFusion(right)\n",
    "\n",
    "\t\t\ti=0\n",
    "\t\t\tj=0\n",
    "\t\t\tk=0\n",
    "\t\t\twhile i < len(left) and j < len(right):\n",
    "\t\t\t\tif left[i] <= right[j]:\n",
    "\t\t\t\t\tv[k]=left[i]\n",
    "\t\t\t\t\ti=i+1\n",
    "\t\t\t\telse:\n",
    "\t\t\t\t\tv[k]=right[j]\n",
    "\t\t\t\t\tj=j+1\n",
    "\t\t\t\tk=k+1\n",
    "\n",
    "\t\t\twhile i < len(left):\n",
    "\t\t\t\tv[k]=left[i]\n",
    "\t\t\t\ti=i+1\n",
    "\t\t\t\tk=k+1\n",
    "\n",
    "\t\t\twhile j < len(right):\n",
    "\t\t\t\tv[k]=right[j]\n",
    "\t\t\t\tj=j+1\n",
    "\t\t\t\tk=k+1\n",
    "\te = datetime.now() # prendre le temps apres execution de l'algo\n",
    "\tdiff = e-s # difference entre temp de début et temp de fin\n",
    "\tsec = diff.total_seconds() # conversion du temp de difference en seconde\n",
    "\ttmp_f.append(float(sec))"
   ]
  },
  {
   "cell_type": "markdown",
   "metadata": {},
   "source": [
    "## Tri rapide"
   ]
  },
  {
   "cell_type": "code",
   "execution_count": 10,
   "metadata": {},
   "outputs": [],
   "source": [
    "def TriRapide(v,fin,debut=0):\n",
    "\t\n",
    "\tdef triRapide(v,fin,debut=0):\n",
    "\n",
    "\t\tdef division(v, debut, fin):\n",
    "\t\t\ti = (debut-1)\t\t \n",
    "\t\t\tpivot = v[fin]\t \n",
    "\n",
    "\t\t\tfor j in range(debut, fin):\n",
    "\n",
    "\t\t\t\tif v[j] <= pivot:\n",
    "\n",
    "\t\t\t\t\ti = i+1\n",
    "\t\t\t\t\tv[i], v[j] = v[j], v[i]\n",
    "\n",
    "\t\t\tv[i+1], v[fin] = v[fin], v[i+1]\n",
    "\t\t\treturn (i+1)\n",
    "\t\t\t\n",
    "\t\tif len(v) == 1:\n",
    "\t\t\treturn v\n",
    "\t\tif debut < fin:\n",
    "\t\t\tpivot = division(v, debut, fin)\n",
    "\t\t\ttriRapide(v, debut, pivot-1)\n",
    "\t\t\ttriRapide(v, pivot+1, fin)\n",
    "\te = datetime.now() # prendre le temps apres execution de l'algo\n",
    "\tdiff = e-s # difference entre temp de début et temp de fin\n",
    "\tsec = diff.total_seconds() # conversion du temp de difference en seconde\n",
    "\ttmp_r.append(float(sec))"
   ]
  },
  {
   "cell_type": "code",
   "execution_count": 11,
   "metadata": {},
   "outputs": [],
   "source": [
    "from numpy import random as rd\n",
    "from datetime import *\n",
    "import matplotlib.pyplot as plt"
   ]
  },
  {
   "cell_type": "markdown",
   "metadata": {},
   "source": [
    "# Tableaus des mesures du temps"
   ]
  },
  {
   "cell_type": "code",
   "execution_count": 12,
   "metadata": {},
   "outputs": [],
   "source": [
    "s = datetime.now() # Prendre le temps avant de commencer l'execuiton\n",
    "tmp_s = [] # Tableau dans le quelle je vais stocker le Temps_CPU pour Tri_selectionn\n",
    "tmp_b = [] # Tab Temps_CPU pour Tri à bulle\n",
    "tmp_i = [] # Tri insertion\n",
    "tmp_f = [] # Tri Fusion\n",
    "tmp_r = [] # Tri Rapide\n",
    "numb = [] # Tableau pour stocker le nombre des entiers \" N \""
   ]
  },
  {
   "cell_type": "markdown",
   "metadata": {},
   "source": [
    "# Réalisation des tests "
   ]
  },
  {
   "cell_type": "code",
   "execution_count": 13,
   "metadata": {},
   "outputs": [],
   "source": [
    "#Veuillez vous modifier les valeurs des o, p, et n selon la performance de votre pc.\n",
    "            \n",
    "o=2000\n",
    "p=15000\n",
    "n=1000\n",
    "\n",
    "for i in range(o, p+1, n):\n",
    "\tnumb.append(i)\n",
    "\tTab=rd.randint(100, size=(i))\n",
    "\tn=len(Tab)-1\n",
    "\ttriSelection(Tab)\n",
    "\ttriBulle (Tab)\n",
    "\ttriInsertion(Tab)\n",
    "\tTriFusion(Tab)\n",
    "\tTriRapide(Tab,n)\n"
   ]
  },
  {
   "cell_type": "markdown",
   "metadata": {},
   "source": [
    "# Les figues :"
   ]
  },
  {
   "cell_type": "code",
   "execution_count": 14,
   "metadata": {},
   "outputs": [
    {
     "data": {
      "image/png": "[encoded data removed]",
      "text/plain": [
       "<Figure size 432x288 with 1 Axes>"
      ]
     },
     "metadata": {
      "needs_background": "light"
     },
     "output_type": "display_data"
    },
    {
     "data": {
      "image/png": "[encoded data removed]",
      "text/plain": [
       "<Figure size 432x288 with 1 Axes>"
      ]
     },
     "metadata": {
      "needs_background": "light"
     },
     "output_type": "display_data"
    },
    {
     "data": {
      "image/png": "[encoded data removed]",
      "text/plain": [
       "<Figure size 432x288 with 1 Axes>"
      ]
     },
     "metadata": {
      "needs_background": "light"
     },
     "output_type": "display_data"
    },
    {
     "data": {
      "image/png": "[encoded data removed]",
      "text/plain": [
       "<Figure size 432x288 with 1 Axes>"
      ]
     },
     "metadata": {
      "needs_background": "light"
     },
     "output_type": "display_data"
    },
    {
     "data": {
      "image/png": "[encoded data removed]",
      "text/plain": [
       "<Figure size 432x288 with 1 Axes>"
      ]
     },
     "metadata": {
      "needs_background": "light"
     },
     "output_type": "display_data"
    }
   ],
   "source": [
    "from numpy import random as rd\n",
    "from datetime import *\n",
    "import matplotlib.pyplot as plt\n",
    "\n",
    "\n",
    "\n",
    "\n",
    "plt.figure()\n",
    "plt.plot(numb,tmp_s,\"red\")\n",
    "plt.title(\"Tri par Selection\")\n",
    "plt.xlabel(\"N : Nombre des entiers dans le tableau\")\n",
    "plt.ylabel(\"Temps CPU en seconde \")\n",
    "plt.grid()\n",
    "\n",
    "\n",
    "plt.figure()\n",
    "plt.plot(numb,tmp_b,\"blue\")\n",
    "plt.title(\"Tri à Bulle\")\n",
    "plt.xlabel(\"N : Nombre des entiers dans le tableau\")\n",
    "plt.ylabel(\"Temps CPU en seconde \")\n",
    "plt.grid()\n",
    "\n",
    "plt.figure()\n",
    "plt.plot(numb,tmp_i,\"green\")\n",
    "plt.title(\"Tri par Insertion\")\n",
    "plt.xlabel(\"N : Nombre des entiers dans le tableau\")\n",
    "plt.ylabel(\"Temps CPU en seconde \")\n",
    "plt.grid()\n",
    "\n",
    "plt.figure()\n",
    "plt.plot(numb,tmp_f,\"cyan\")\n",
    "plt.title(\"Tri par Fusion\")\n",
    "plt.xlabel(\"N : Nombre des entiers dans le tableau\")\n",
    "plt.ylabel(\"Temps CPU en seconde \")\n",
    "plt.grid()\n",
    "\n",
    "\n",
    "\n",
    "plt.figure()\n",
    "plt.plot(numb,tmp_r,\"magenta\")\n",
    "plt.title(\"Tri Rapide\")\n",
    "plt.xlabel(\"N : Nombre des entiers dans le tableau\")\n",
    "plt.ylabel(\"Temps CPU en seconde \")\n",
    "plt.grid()\n",
    "\n",
    "\n",
    "plt.show()\n"
   ]
  },
  {
   "cell_type": "markdown",
   "metadata": {},
   "source": [
    " # <center style=\"color:#35cd36\"> Conclusion </center>"
   ]
  },
  {
   "cell_type": "markdown",
   "metadata": {},
   "source": [
    "Les algorithmes de tri ont une grande importance pratique. Ils sont fondamentaux dans certains domaines, comme l'informatique de gestion où l'on tri de manière quasi-systématique des données avant de les utiliser.\n",
    "\n",
    "L'étude du tri est également intéressante en elle-même car il s'agit sans doute du domaine de l'algorithmique qui a été le plus étudié et qui a conduit à des résultats remarquables sur la construction d'algorithmes et l'étude de leur complexité."
   ]
  },
  {
   "cell_type": "code",
   "execution_count": null,
   "metadata": {},
   "outputs": [],
   "source": []
  }
 ],
 "metadata": {
  "kernelspec": {
   "display_name": "Python 3",
   "language": "python",
   "name": "python3"
  },
  "language_info": {
   "codemirror_mode": {
    "name": "ipython",
    "version": 3
   },
   "file_extension": ".py",
   "mimetype": "text/x-python",
   "name": "python",
   "nbconvert_exporter": "python",
   "pygments_lexer": "ipython3",
   "version": "3.8.3"
  }
 },
 "nbformat": 4,
 "nbformat_minor": 4
}
